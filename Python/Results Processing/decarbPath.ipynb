{
 "cells": [
  {
   "cell_type": "code",
   "execution_count": 1,
   "outputs": [],
   "source": [
    "import pandas as pd\n",
    "import numpy as np\n",
    "import altair as alt\n",
    "\n",
    "def decarbPath(startYear, endYear, co2Ems2020, co2EmsCapInFinalYear):\n",
    "\n",
    "    # Net-Zero System:\n",
    "    NZ_2020 = co2Ems2020 - (co2Ems2020-0)/3*0\n",
    "    NZ_2050 = co2Ems2020 - (co2Ems2020-0)/3*3\n",
    "\n",
    "    NZ = np.array([NZ_2020, NZ_2050])\n",
    "\n",
    "    # Negative System in 2020:\n",
    "    NEin2020_2020 = co2Ems2020 - (co2Ems2020-co2EmsCapInFinalYear)/3*0\n",
    "    NEin2020_2050 = co2Ems2020 - (co2Ems2020-co2EmsCapInFinalYear)/3*3\n",
    "\n",
    "    NEin2020 = np.array([NEin2020_2020, NEin2020_2050])\n",
    "\n",
    "    # Negative System in 2050:\n",
    "    NEin2050_2020 = NZ_2020\n",
    "    NEin2050_2050 = NZ_2050\n",
    "\n",
    "    NEin2050 = np.array([NEin2050_2020, NEin2050_2050, co2EmsCapInFinalYear])\n",
    "    return (NZ_2020, NZ_2020, NEin2020_2020, NEin2020_2050, NEin2050_2020, NEin2050_2050)"
   ],
   "metadata": {
    "collapsed": false,
    "pycharm": {
     "name": "#%%\n"
    }
   }
  },
  {
   "cell_type": "code",
   "execution_count": 3,
   "outputs": [],
   "source": [
    "startYear = 2020\n",
    "endYear = 2050\n",
    "\n",
    "(NZ_2020_EI, NZ_2020_EI, NEin2020_2020_EI, NEin2020_2050_EI, NEin2050_2020_EI,\n",
    " NEin2050_2050_EI) = decarbPath(startYear, endYear, co2Ems2020= 1274, co2EmsCapInFinalYear=-725)\n",
    "(NZ_2020_ERCOT, NZ_2020_ERCOT, NEin2020_2020_ERCOT, NEin2020_2050_ERCOT, NEin2050_2020_ERCOT,\n",
    " NEin2050_2050_ERCOT) = decarbPath(startYear, endYear, co2Ems2020=131, co2EmsCapInFinalYear=-90)\n",
    "\n",
    "NE2020 = [NEin2020_2020_EI, NEin2020_2050_EI, NEin2020_2050_EI,\n",
    "          NEin2020_2020_ERCOT, NEin2020_2050_ERCOT, NEin2020_2050_ERCOT]\n",
    "NE2020_Col = ['NE2020', 'NE2020', 'NE2020', 'NE2020', 'NE2020', 'NE2020']\n",
    "region_Col = ['EI', 'EI', 'EI', 'ERCOT', 'ERCOT', 'ERCOT']\n",
    "year = ['2020', '2050', '2050', '2020', '2050', '2050']\n",
    "\n",
    "NE2050 = [NEin2050_2020_EI, NEin2050_2050_EI, NEin2020_2050_EI,\n",
    "          NEin2050_2020_ERCOT, NEin2050_2050_ERCOT, NEin2020_2050_ERCOT]\n",
    "NE2050_Col = ['NE2050', 'NE2050', 'NE2050', 'NE2050', 'NE2050', 'NE2050']\n",
    "\n",
    "decarbData_ref = np.hstack((NE2020, NE2050))\n",
    "decarbType_ref = np.hstack((NE2020_Col, NE2050_Col))\n",
    "region_ref = np.hstack((region_Col, region_Col))\n",
    "planning_ref = np.hstack((year, year))\n",
    "\n",
    "decarb_ref = np.vstack((region_ref, planning_ref, decarbType_ref, decarbData_ref))\n",
    "df_decarb_ref = pd.DataFrame(decarb_ref)\n",
    "df_decarb_ref = df_decarb_ref.transpose()\n",
    "df_decarb_ref.rename({0: 'Region', 1: 'Year', 2: 'Pathway', 3: 'Amount'}, axis=1, inplace=True)\n",
    "df_decarb_ref = df_decarb_ref.astype({'Amount': float})"
   ],
   "metadata": {
    "collapsed": false,
    "pycharm": {
     "name": "#%%\n"
    }
   }
  },
  {
   "cell_type": "code",
   "execution_count": 12,
   "outputs": [
    {
     "name": "stdout",
     "output_type": "stream",
     "text": [
      "Displaying chart at http://localhost:22529/\n"
     ]
    }
   ],
   "source": [
    "# Plot decarbonization pathway:\n",
    "chart = alt.Chart(df_decarb_ref).mark_line().encode(\n",
    "    # tell Altair which field to group columns on\n",
    "    x=alt.X('Year', title=None),\n",
    "    # tell Altair which field to use as Y values and how to calculate\n",
    "    y=alt.Y('Amount',\n",
    "            axis=alt.Axis(\n",
    "                grid=False,\n",
    "                title='CO2 Emission Cap (Million Tons)')),\n",
    "    # tell Altair which field to use to use as the set of columns to be  represented in each group\n",
    "    column=alt.Column('Region', title=None, header=alt.Header(labelFontSize=20)),\n",
    "    # tell Altair which field to use for color segmentation\n",
    "    color=alt.Color('Pathway',\n",
    "                    scale=alt.Scale(\n",
    "                        # make it look pretty with an enjoyable color pallet\n",
    "                        range=['darkolivegreen', 'lightpink'],\n",
    "                    ),\n",
    "                    )).resolve_scale(y='shared').configure_view(\n",
    "    # remove grid lines around column clusters\n",
    "    # strokeOpacity=0\n",
    "    ).configure_axis(titleFontSize=16, labelFontSize=14).configure_legend(labelFontSize=15, titleFontSize=15\n",
    "                                                                      ).properties(width=200, height=400).show()\n",
    "\n",
    "#line = alt.Chart(pd.DataFrame({'y': [0]})).mark_rule().encode(y='y')\n",
    "\n",
    "#chart + line\n",
    "\n",
    "#chart"
   ],
   "metadata": {
    "collapsed": false,
    "pycharm": {
     "name": "#%%\n"
    }
   }
  },
  {
   "cell_type": "code",
   "execution_count": 10,
   "outputs": [
    {
     "ename": "ValueError",
     "evalue": "No enabled saver found that supports format='png'",
     "output_type": "error",
     "traceback": [
      "\u001B[1;31m---------------------------------------------------------------------------\u001B[0m",
      "\u001B[1;31mValueError\u001B[0m                                Traceback (most recent call last)",
      "\u001B[1;32m<ipython-input-10-6dc69c2f15af>\u001B[0m in \u001B[0;36m<module>\u001B[1;34m\u001B[0m\n\u001B[1;32m----> 1\u001B[1;33m \u001B[0mchart\u001B[0m\u001B[1;33m.\u001B[0m\u001B[0msave\u001B[0m\u001B[1;33m(\u001B[0m\u001B[1;34m'decarb_path.png'\u001B[0m\u001B[1;33m)\u001B[0m\u001B[1;33m\u001B[0m\u001B[1;33m\u001B[0m\u001B[0m\n\u001B[0m",
      "\u001B[1;32m~\\Anaconda3\\lib\\site-packages\\altair\\vegalite\\v4\\api.py\u001B[0m in \u001B[0;36msave\u001B[1;34m(self, fp, format, override_data_transformer, scale_factor, vegalite_version, vega_version, vegaembed_version, **kwargs)\u001B[0m\n\u001B[0;32m    486\u001B[0m         \u001B[1;32mif\u001B[0m \u001B[0moverride_data_transformer\u001B[0m\u001B[1;33m:\u001B[0m\u001B[1;33m\u001B[0m\u001B[1;33m\u001B[0m\u001B[0m\n\u001B[0;32m    487\u001B[0m             \u001B[1;32mwith\u001B[0m \u001B[0mdata_transformers\u001B[0m\u001B[1;33m.\u001B[0m\u001B[0mdisable_max_rows\u001B[0m\u001B[1;33m(\u001B[0m\u001B[1;33m)\u001B[0m\u001B[1;33m:\u001B[0m\u001B[1;33m\u001B[0m\u001B[1;33m\u001B[0m\u001B[0m\n\u001B[1;32m--> 488\u001B[1;33m                 \u001B[0mresult\u001B[0m \u001B[1;33m=\u001B[0m \u001B[0msave\u001B[0m\u001B[1;33m(\u001B[0m\u001B[1;33m**\u001B[0m\u001B[0mkwds\u001B[0m\u001B[1;33m)\u001B[0m\u001B[1;33m\u001B[0m\u001B[1;33m\u001B[0m\u001B[0m\n\u001B[0m\u001B[0;32m    489\u001B[0m         \u001B[1;32melse\u001B[0m\u001B[1;33m:\u001B[0m\u001B[1;33m\u001B[0m\u001B[1;33m\u001B[0m\u001B[0m\n\u001B[0;32m    490\u001B[0m             \u001B[0mresult\u001B[0m \u001B[1;33m=\u001B[0m \u001B[0msave\u001B[0m\u001B[1;33m(\u001B[0m\u001B[1;33m**\u001B[0m\u001B[0mkwds\u001B[0m\u001B[1;33m)\u001B[0m\u001B[1;33m\u001B[0m\u001B[1;33m\u001B[0m\u001B[0m\n",
      "\u001B[1;32m~\\Anaconda3\\lib\\site-packages\\altair\\utils\\save.py\u001B[0m in \u001B[0;36msave\u001B[1;34m(chart, fp, vega_version, vegaembed_version, format, mode, vegalite_version, embed_options, json_kwds, webdriver, scale_factor, **kwargs)\u001B[0m\n\u001B[0;32m    123\u001B[0m             \u001B[0mwebdriver\u001B[0m\u001B[1;33m=\u001B[0m\u001B[0mwebdriver\u001B[0m\u001B[1;33m,\u001B[0m\u001B[1;33m\u001B[0m\u001B[1;33m\u001B[0m\u001B[0m\n\u001B[0;32m    124\u001B[0m             \u001B[0mscale_factor\u001B[0m\u001B[1;33m=\u001B[0m\u001B[0mscale_factor\u001B[0m\u001B[1;33m,\u001B[0m\u001B[1;33m\u001B[0m\u001B[1;33m\u001B[0m\u001B[0m\n\u001B[1;32m--> 125\u001B[1;33m             \u001B[1;33m**\u001B[0m\u001B[0mkwargs\u001B[0m\u001B[1;33m,\u001B[0m\u001B[1;33m\u001B[0m\u001B[1;33m\u001B[0m\u001B[0m\n\u001B[0m\u001B[0;32m    126\u001B[0m         )\n\u001B[0;32m    127\u001B[0m         \u001B[1;32mif\u001B[0m \u001B[0mformat\u001B[0m \u001B[1;33m==\u001B[0m \u001B[1;34m\"png\"\u001B[0m\u001B[1;33m:\u001B[0m\u001B[1;33m\u001B[0m\u001B[1;33m\u001B[0m\u001B[0m\n",
      "\u001B[1;32m~\\Anaconda3\\lib\\site-packages\\altair\\utils\\mimebundle.py\u001B[0m in \u001B[0;36mspec_to_mimebundle\u001B[1;34m(spec, format, mode, vega_version, vegaembed_version, vegalite_version, **kwargs)\u001B[0m\n\u001B[0;32m     58\u001B[0m                 \u001B[1;34m\"see http://github.com/altair-viz/altair_saver/\"\u001B[0m\u001B[1;33m.\u001B[0m\u001B[0mformat\u001B[0m\u001B[1;33m(\u001B[0m\u001B[0mfmt\u001B[0m\u001B[1;33m=\u001B[0m\u001B[0mformat\u001B[0m\u001B[1;33m)\u001B[0m\u001B[1;33m\u001B[0m\u001B[1;33m\u001B[0m\u001B[0m\n\u001B[0;32m     59\u001B[0m             )\n\u001B[1;32m---> 60\u001B[1;33m         \u001B[1;32mreturn\u001B[0m \u001B[0maltair_saver\u001B[0m\u001B[1;33m.\u001B[0m\u001B[0mrender\u001B[0m\u001B[1;33m(\u001B[0m\u001B[0mspec\u001B[0m\u001B[1;33m,\u001B[0m \u001B[0mformat\u001B[0m\u001B[1;33m,\u001B[0m \u001B[0mmode\u001B[0m\u001B[1;33m=\u001B[0m\u001B[0mmode\u001B[0m\u001B[1;33m,\u001B[0m \u001B[1;33m**\u001B[0m\u001B[0mkwargs\u001B[0m\u001B[1;33m)\u001B[0m\u001B[1;33m\u001B[0m\u001B[1;33m\u001B[0m\u001B[0m\n\u001B[0m\u001B[0;32m     61\u001B[0m     \u001B[1;32mif\u001B[0m \u001B[0mformat\u001B[0m \u001B[1;33m==\u001B[0m \u001B[1;34m\"html\"\u001B[0m\u001B[1;33m:\u001B[0m\u001B[1;33m\u001B[0m\u001B[1;33m\u001B[0m\u001B[0m\n\u001B[0;32m     62\u001B[0m         html = spec_to_html(\n",
      "\u001B[1;32m~\\Anaconda3\\lib\\site-packages\\altair_saver\\_core.py\u001B[0m in \u001B[0;36mrender\u001B[1;34m(chart, fmts, mode, embed_options, method, **kwargs)\u001B[0m\n\u001B[0;32m    253\u001B[0m \u001B[1;33m\u001B[0m\u001B[0m\n\u001B[0;32m    254\u001B[0m     \u001B[1;32mfor\u001B[0m \u001B[0mfmt\u001B[0m \u001B[1;32min\u001B[0m \u001B[0mfmts\u001B[0m\u001B[1;33m:\u001B[0m\u001B[1;33m\u001B[0m\u001B[1;33m\u001B[0m\u001B[0m\n\u001B[1;32m--> 255\u001B[1;33m         \u001B[0mSaver\u001B[0m \u001B[1;33m=\u001B[0m \u001B[0m_select_saver\u001B[0m\u001B[1;33m(\u001B[0m\u001B[0mmethod\u001B[0m\u001B[1;33m,\u001B[0m \u001B[0mmode\u001B[0m\u001B[1;33m=\u001B[0m\u001B[0mmode\u001B[0m\u001B[1;33m,\u001B[0m \u001B[0mfmt\u001B[0m\u001B[1;33m=\u001B[0m\u001B[0mfmt\u001B[0m\u001B[1;33m)\u001B[0m\u001B[1;33m\u001B[0m\u001B[1;33m\u001B[0m\u001B[0m\n\u001B[0m\u001B[0;32m    256\u001B[0m         \u001B[0msaver\u001B[0m \u001B[1;33m=\u001B[0m \u001B[0mSaver\u001B[0m\u001B[1;33m(\u001B[0m\u001B[0mspec\u001B[0m\u001B[1;33m,\u001B[0m \u001B[0mmode\u001B[0m\u001B[1;33m=\u001B[0m\u001B[0mmode\u001B[0m\u001B[1;33m,\u001B[0m \u001B[0membed_options\u001B[0m\u001B[1;33m=\u001B[0m\u001B[0membed_options\u001B[0m\u001B[1;33m,\u001B[0m \u001B[1;33m**\u001B[0m\u001B[0mkwargs\u001B[0m\u001B[1;33m)\u001B[0m\u001B[1;33m\u001B[0m\u001B[1;33m\u001B[0m\u001B[0m\n\u001B[0;32m    257\u001B[0m         \u001B[0mmimebundle\u001B[0m\u001B[1;33m.\u001B[0m\u001B[0mupdate\u001B[0m\u001B[1;33m(\u001B[0m\u001B[0msaver\u001B[0m\u001B[1;33m.\u001B[0m\u001B[0mmimebundle\u001B[0m\u001B[1;33m(\u001B[0m\u001B[0mfmt\u001B[0m\u001B[1;33m)\u001B[0m\u001B[1;33m)\u001B[0m\u001B[1;33m\u001B[0m\u001B[1;33m\u001B[0m\u001B[0m\n",
      "\u001B[1;32m~\\Anaconda3\\lib\\site-packages\\altair_saver\\_core.py\u001B[0m in \u001B[0;36m_select_saver\u001B[1;34m(method, mode, fmt, fp)\u001B[0m\n\u001B[0;32m     67\u001B[0m             \u001B[1;32mif\u001B[0m \u001B[0ms\u001B[0m\u001B[1;33m.\u001B[0m\u001B[0menabled\u001B[0m\u001B[1;33m(\u001B[0m\u001B[1;33m)\u001B[0m \u001B[1;32mand\u001B[0m \u001B[0mfmt\u001B[0m \u001B[1;32min\u001B[0m \u001B[0ms\u001B[0m\u001B[1;33m.\u001B[0m\u001B[0mvalid_formats\u001B[0m\u001B[1;33m[\u001B[0m\u001B[0mmode\u001B[0m\u001B[1;33m]\u001B[0m\u001B[1;33m:\u001B[0m\u001B[1;33m\u001B[0m\u001B[1;33m\u001B[0m\u001B[0m\n\u001B[0;32m     68\u001B[0m                 \u001B[1;32mreturn\u001B[0m \u001B[0ms\u001B[0m\u001B[1;33m\u001B[0m\u001B[1;33m\u001B[0m\u001B[0m\n\u001B[1;32m---> 69\u001B[1;33m         \u001B[1;32mraise\u001B[0m \u001B[0mValueError\u001B[0m\u001B[1;33m(\u001B[0m\u001B[1;34mf\"No enabled saver found that supports format={fmt!r}\"\u001B[0m\u001B[1;33m)\u001B[0m\u001B[1;33m\u001B[0m\u001B[1;33m\u001B[0m\u001B[0m\n\u001B[0m\u001B[0;32m     70\u001B[0m     \u001B[1;32melse\u001B[0m\u001B[1;33m:\u001B[0m\u001B[1;33m\u001B[0m\u001B[1;33m\u001B[0m\u001B[0m\n\u001B[0;32m     71\u001B[0m         \u001B[1;32mraise\u001B[0m \u001B[0mValueError\u001B[0m\u001B[1;33m(\u001B[0m\u001B[1;34mf\"Unrecognized method: {method}\"\u001B[0m\u001B[1;33m)\u001B[0m\u001B[1;33m\u001B[0m\u001B[1;33m\u001B[0m\u001B[0m\n",
      "\u001B[1;31mValueError\u001B[0m: No enabled saver found that supports format='png'"
     ]
    }
   ],
   "source": [
    "chart.save('decarb_path.png')"
   ],
   "metadata": {
    "collapsed": false,
    "pycharm": {
     "name": "#%%\n"
    }
   }
  },
  {
   "cell_type": "code",
   "execution_count": null,
   "outputs": [],
   "source": [],
   "metadata": {
    "collapsed": false,
    "pycharm": {
     "name": "#%%\n"
    }
   }
  }
 ],
 "metadata": {
  "kernelspec": {
   "display_name": "Python 3",
   "language": "python",
   "name": "python3"
  },
  "language_info": {
   "codemirror_mode": {
    "name": "ipython",
    "version": 2
   },
   "file_extension": ".py",
   "mimetype": "text/x-python",
   "name": "python",
   "nbconvert_exporter": "python",
   "pygments_lexer": "ipython2",
   "version": "2.7.6"
  }
 },
 "nbformat": 4,
 "nbformat_minor": 0
}